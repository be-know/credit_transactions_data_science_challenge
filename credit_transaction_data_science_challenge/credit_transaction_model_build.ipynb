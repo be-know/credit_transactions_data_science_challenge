{
 "cells": [
  {
   "cell_type": "markdown",
   "metadata": {},
   "source": [
    "# Credit Transaction Data Science Challenge"
   ]
  },
  {
   "cell_type": "markdown",
   "metadata": {},
   "source": [
    "## Setup"
   ]
  },
  {
   "cell_type": "code",
   "execution_count": 1,
   "metadata": {},
   "outputs": [],
   "source": [
    "#----------------------------------------------------------------------------------------------------\n",
    "# imports for entire notebook\n",
    "#----------------------------------------------------------------------------------------------------\n",
    "\n",
    "import numpy as np\n",
    "import pandas as pd\n",
    "import matplotlib.pyplot as plt # version 3.1.0\n",
    "import pandas_profiling\n",
    "\n",
    "from sklearn.model_selection import train_test_split # version 0.21.2\n",
    "from sklearn.utils import resample\n",
    "from sklearn.ensemble import RandomForestClassifier\n",
    "from sklearn.model_selection import GridSearchCV\n",
    "\n",
    "# turning off warning\n",
    "pd.options.mode.chained_assignment = None"
   ]
  },
  {
   "cell_type": "code",
   "execution_count": 2,
   "metadata": {},
   "outputs": [
    {
     "name": "stdout",
     "output_type": "stream",
     "text": [
      "numpy version: 1.16.4\n",
      "pandas version: 0.24.2\n",
      "pandas-profiling version: 2.3.0\n"
     ]
    }
   ],
   "source": [
    "print(f'numpy version: {np.__version__}')\n",
    "print(f'pandas version: {pd.__version__}')\n",
    "print(f'pandas-profiling version: {pandas_profiling.__version__}')"
   ]
  },
  {
   "cell_type": "markdown",
   "metadata": {},
   "source": [
    "## Question 1: Load"
   ]
  },
  {
   "cell_type": "markdown",
   "metadata": {},
   "source": [
    "- Programmatically download and load into your favorite analytical tool the transactions data. This data, which is in line-delimited JSON format, can be found [here](https://github.com/CapitalOneRecruiting/DS)\n",
    "- Please describe the structure of the data. Number of records and fields in each record?\n",
    "- Please provide some additional basic summary statistics for each field. Be sure to include a count of null, minimum, maximum, and unique values where appropriate."
   ]
  },
  {
   "cell_type": "code",
   "execution_count": 3,
   "metadata": {},
   "outputs": [],
   "source": [
    "#----------------------------------------------------------------------------------------------------\n",
    "# read in line-delimited JSON file on transactional data from github\n",
    "#----------------------------------------------------------------------------------------------------\n",
    "\n",
    "url = 'https://raw.githubusercontent.com/CapitalOneRecruiting/DS/master/transactions.zip'\n",
    "\n",
    "transactions_raw = pd.read_json(url, lines=True)"
   ]
  },
  {
   "cell_type": "code",
   "execution_count": 4,
   "metadata": {},
   "outputs": [
    {
     "data": {
      "text/html": [
       "<div>\n",
       "<style scoped>\n",
       "    .dataframe tbody tr th:only-of-type {\n",
       "        vertical-align: middle;\n",
       "    }\n",
       "\n",
       "    .dataframe tbody tr th {\n",
       "        vertical-align: top;\n",
       "    }\n",
       "\n",
       "    .dataframe thead th {\n",
       "        text-align: right;\n",
       "    }\n",
       "</style>\n",
       "<table border=\"1\" class=\"dataframe\">\n",
       "  <thead>\n",
       "    <tr style=\"text-align: right;\">\n",
       "      <th></th>\n",
       "      <th>accountNumber</th>\n",
       "      <th>accountOpenDate</th>\n",
       "      <th>acqCountry</th>\n",
       "      <th>availableMoney</th>\n",
       "      <th>cardCVV</th>\n",
       "      <th>cardLast4Digits</th>\n",
       "      <th>cardPresent</th>\n",
       "      <th>creditLimit</th>\n",
       "      <th>currentBalance</th>\n",
       "      <th>currentExpDate</th>\n",
       "      <th>...</th>\n",
       "      <th>merchantName</th>\n",
       "      <th>merchantState</th>\n",
       "      <th>merchantZip</th>\n",
       "      <th>posConditionCode</th>\n",
       "      <th>posEntryMode</th>\n",
       "      <th>posOnPremises</th>\n",
       "      <th>recurringAuthInd</th>\n",
       "      <th>transactionAmount</th>\n",
       "      <th>transactionDateTime</th>\n",
       "      <th>transactionType</th>\n",
       "    </tr>\n",
       "  </thead>\n",
       "  <tbody>\n",
       "    <tr>\n",
       "      <th>0</th>\n",
       "      <td>733493772</td>\n",
       "      <td>2014-08-03</td>\n",
       "      <td>US</td>\n",
       "      <td>5000.00</td>\n",
       "      <td>492</td>\n",
       "      <td>9184</td>\n",
       "      <td>False</td>\n",
       "      <td>5000</td>\n",
       "      <td>0.00</td>\n",
       "      <td>04/2020</td>\n",
       "      <td>...</td>\n",
       "      <td>Lyft</td>\n",
       "      <td></td>\n",
       "      <td></td>\n",
       "      <td>01</td>\n",
       "      <td>05</td>\n",
       "      <td></td>\n",
       "      <td></td>\n",
       "      <td>111.33</td>\n",
       "      <td>2016-01-08T19:04:50</td>\n",
       "      <td>PURCHASE</td>\n",
       "    </tr>\n",
       "    <tr>\n",
       "      <th>1</th>\n",
       "      <td>733493772</td>\n",
       "      <td>2014-08-03</td>\n",
       "      <td>US</td>\n",
       "      <td>4888.67</td>\n",
       "      <td>492</td>\n",
       "      <td>9184</td>\n",
       "      <td>False</td>\n",
       "      <td>5000</td>\n",
       "      <td>111.33</td>\n",
       "      <td>06/2023</td>\n",
       "      <td>...</td>\n",
       "      <td>Uber</td>\n",
       "      <td></td>\n",
       "      <td></td>\n",
       "      <td>01</td>\n",
       "      <td>09</td>\n",
       "      <td></td>\n",
       "      <td></td>\n",
       "      <td>24.75</td>\n",
       "      <td>2016-01-09T22:32:39</td>\n",
       "      <td>PURCHASE</td>\n",
       "    </tr>\n",
       "    <tr>\n",
       "      <th>2</th>\n",
       "      <td>733493772</td>\n",
       "      <td>2014-08-03</td>\n",
       "      <td>US</td>\n",
       "      <td>4863.92</td>\n",
       "      <td>492</td>\n",
       "      <td>9184</td>\n",
       "      <td>False</td>\n",
       "      <td>5000</td>\n",
       "      <td>136.08</td>\n",
       "      <td>12/2027</td>\n",
       "      <td>...</td>\n",
       "      <td>Lyft</td>\n",
       "      <td></td>\n",
       "      <td></td>\n",
       "      <td>01</td>\n",
       "      <td>05</td>\n",
       "      <td></td>\n",
       "      <td></td>\n",
       "      <td>187.40</td>\n",
       "      <td>2016-01-11T13:36:55</td>\n",
       "      <td>PURCHASE</td>\n",
       "    </tr>\n",
       "  </tbody>\n",
       "</table>\n",
       "<p>3 rows × 29 columns</p>\n",
       "</div>"
      ],
      "text/plain": [
       "   accountNumber accountOpenDate acqCountry  availableMoney  cardCVV  \\\n",
       "0      733493772      2014-08-03         US         5000.00      492   \n",
       "1      733493772      2014-08-03         US         4888.67      492   \n",
       "2      733493772      2014-08-03         US         4863.92      492   \n",
       "\n",
       "   cardLast4Digits  cardPresent  creditLimit  currentBalance currentExpDate  \\\n",
       "0             9184        False         5000            0.00        04/2020   \n",
       "1             9184        False         5000          111.33        06/2023   \n",
       "2             9184        False         5000          136.08        12/2027   \n",
       "\n",
       "   ...  merchantName merchantState merchantZip  posConditionCode  \\\n",
       "0  ...          Lyft                                          01   \n",
       "1  ...          Uber                                          01   \n",
       "2  ...          Lyft                                          01   \n",
       "\n",
       "   posEntryMode  posOnPremises recurringAuthInd transactionAmount  \\\n",
       "0            05                                            111.33   \n",
       "1            09                                             24.75   \n",
       "2            05                                            187.40   \n",
       "\n",
       "   transactionDateTime transactionType  \n",
       "0  2016-01-08T19:04:50        PURCHASE  \n",
       "1  2016-01-09T22:32:39        PURCHASE  \n",
       "2  2016-01-11T13:36:55        PURCHASE  \n",
       "\n",
       "[3 rows x 29 columns]"
      ]
     },
     "execution_count": 4,
     "metadata": {},
     "output_type": "execute_result"
    }
   ],
   "source": [
    "#----------------------------------------------------------------------------------------------------\n",
    "# display sample, first 3 lines of dataframe\n",
    "#----------------------------------------------------------------------------------------------------\n",
    "\n",
    "transactions_raw.head(3)"
   ]
  },
  {
   "cell_type": "code",
   "execution_count": 5,
   "metadata": {},
   "outputs": [
    {
     "data": {
      "text/plain": [
       "accountNumber                 int64\n",
       "accountOpenDate              object\n",
       "acqCountry                   object\n",
       "availableMoney              float64\n",
       "cardCVV                       int64\n",
       "cardLast4Digits               int64\n",
       "cardPresent                    bool\n",
       "creditLimit                   int64\n",
       "currentBalance              float64\n",
       "currentExpDate               object\n",
       "customerId                    int64\n",
       "dateOfLastAddressChange      object\n",
       "echoBuffer                   object\n",
       "enteredCVV                    int64\n",
       "expirationDateKeyInMatch       bool\n",
       "isFraud                        bool\n",
       "merchantCategoryCode         object\n",
       "merchantCity                 object\n",
       "merchantCountryCode          object\n",
       "merchantName                 object\n",
       "merchantState                object\n",
       "merchantZip                  object\n",
       "posConditionCode             object\n",
       "posEntryMode                 object\n",
       "posOnPremises                object\n",
       "recurringAuthInd             object\n",
       "transactionAmount           float64\n",
       "transactionDateTime          object\n",
       "transactionType              object\n",
       "dtype: object"
      ]
     },
     "execution_count": 5,
     "metadata": {},
     "output_type": "execute_result"
    }
   ],
   "source": [
    "#----------------------------------------------------------------------------------------------------\n",
    "# checking if datatypes seem appropriate\n",
    "#----------------------------------------------------------------------------------------------------\n",
    "\n",
    "transactions_raw.dtypes"
   ]
  },
  {
   "cell_type": "code",
   "execution_count": 6,
   "metadata": {},
   "outputs": [],
   "source": [
    "#----------------------------------------------------------------------------------------------------\n",
    "# correcting datatypes that appear to be incorrectly inferred\n",
    "#----------------------------------------------------------------------------------------------------\n",
    "\n",
    "transactions_raw['accountOpenDate'] = pd.to_datetime(transactions_raw['accountOpenDate'], format='%Y-%m-%d')\n",
    "transactions_raw['currentExpDate'] = pd.to_datetime(transactions_raw['currentExpDate'], format='%m/%Y')\n",
    "transactions_raw['dateOfLastAddressChange'] = pd.to_datetime(transactions_raw['dateOfLastAddressChange'], format='%Y-%m-%d')\n",
    "transactions_raw['transactionDateTime'] = pd.to_datetime(transactions_raw['transactionDateTime'])"
   ]
  },
  {
   "cell_type": "code",
   "execution_count": 7,
   "metadata": {},
   "outputs": [],
   "source": [
    "#----------------------------------------------------------------------------------------------------\n",
    "# extract number of rows and columns in dataframe\n",
    "#----------------------------------------------------------------------------------------------------\n",
    "\n",
    "rows, cols = transactions_raw.shape"
   ]
  },
  {
   "cell_type": "code",
   "execution_count": 8,
   "metadata": {},
   "outputs": [
    {
     "name": "stdout",
     "output_type": "stream",
     "text": [
      "641914\n",
      "29\n"
     ]
    }
   ],
   "source": [
    "print(rows)\n",
    "print(cols)"
   ]
  },
  {
   "cell_type": "markdown",
   "metadata": {},
   "source": [
    "**Please describe the structure of the data. Number of records and fields in each record.**\n",
    "- Number of records: 641,914\n",
    "- Number of fields: 29"
   ]
  },
  {
   "cell_type": "markdown",
   "metadata": {},
   "source": [
    "**Please provide some additional basic summary statistics for each field. Be sure to include a count of null, minimum, maximum, and unique values where appropriate.**\n",
    "\n",
    "- The code below uses pandas profiling to generate a univariate summary html report. The html file includes many statistics about each variables in the transactions dataset. Examples of metrics includes: # null, min, max, unique values for categorical varibles, etc.\n",
    "- It appears as though a few of the variables in the dataset are not populated:\n",
    " - echoBuffer\n",
    " - merchantCity\n",
    " - merchantState\n",
    " - merchantZip\n",
    " - posOnPremises\n",
    " - recurringAuthInd\n",
    " \n",
    "The requested values can all be found in the univariate_summary.html file"
   ]
  },
  {
   "cell_type": "code",
   "execution_count": 9,
   "metadata": {},
   "outputs": [],
   "source": [
    "#----------------------------------------------------------------------------------------------------\n",
    "# run pandas_profiling report (univariate summary) on the transaction dataframe & store html in current directory\n",
    "# removed some functionality (ex. correlation checks) to improve performance\n",
    "#----------------------------------------------------------------------------------------------------\n",
    "\n",
    "profile = transactions_raw.profile_report(title='Transactions Univariate Summary'\n",
    "                                          ,check_correlation_pearson=False\n",
    "                                          ,correlations={'pearson': True, 'spearman': False, 'kendall': False\n",
    "                                                         ,'phi_k': False, 'cramers': False, 'recoded':False}\n",
    "                                          ,missing_diagrams={'bar': False, 'matrix': False\n",
    "                                                             , 'heatmap': False, 'dendrogram': False}\n",
    "                                          ,plot ={'histogram':{'bayesian_blocks_bins': False, 'bins': 20}}\n",
    "                                         )\n",
    "profile.to_file(output_file='univariate_summary.html')"
   ]
  },
  {
   "cell_type": "markdown",
   "metadata": {
    "heading_collapsed": true
   },
   "source": [
    "## Question 2: Plot"
   ]
  },
  {
   "cell_type": "markdown",
   "metadata": {
    "hidden": true
   },
   "source": [
    "**Plot a histogram of the processed amounts of each transaction, the 'transactionAmount' column.\n",
    "Report any structure you find and any hypotheses you have about that structure.**"
   ]
  },
  {
   "cell_type": "code",
   "execution_count": 10,
   "metadata": {
    "hidden": true
   },
   "outputs": [
    {
     "data": {
      "image/png": "[encoded data removed]",
      "text/plain": [
       "<Figure size 1080x360 with 2 Axes>"
      ]
     },
     "metadata": {
      "needs_background": "light"
     },
     "output_type": "display_data"
    }
   ],
   "source": [
    "#----------------------------------------------------------------------------------------------------\n",
    "# plot histogram & boxplot of 'transactionAmount' using matplotlib\n",
    "#----------------------------------------------------------------------------------------------------\n",
    "\n",
    "var = transactions_raw.transactionAmount\n",
    "\n",
    "weights = np.ones(rows)/rows\n",
    "\n",
    "plt.figure(figsize=(15,5))\n",
    "\n",
    "plt.subplot(121)\n",
    "plt.hist(var, bins=70, weights=weights)\n",
    "\n",
    "plt.subplot(122)\n",
    "plt.boxplot(var)\n",
    "\n",
    "plt.show()"
   ]
  },
  {
   "cell_type": "markdown",
   "metadata": {
    "hidden": true
   },
   "source": [
    "The histogram for 'transactionAmount' is right skewed. As expected, purchases tend to be lower dollar amounts (< $250), but there is a long tail for less frequent, higher dollar amount purchases.\n",
    "\n",
    "- As an example, consumers likely purchase groceries, gas, go out to eat, etc. on a weekly basis. All of which are generally below $150. However, consumers purchase higher dollar amount items such as  rent, purchase a new tv, etc., much less frequently.\n",
    "\n",
    "- One other interesting observation is that ~3%  of observations have a $0 transaction amount. A large portion of which appear to be 'ADDRESS_VERIFICATION' transactions. "
   ]
  },
  {
   "cell_type": "code",
   "execution_count": 11,
   "metadata": {
    "hidden": true
   },
   "outputs": [
    {
     "data": {
      "text/html": [
       "<div>\n",
       "<style scoped>\n",
       "    .dataframe tbody tr th:only-of-type {\n",
       "        vertical-align: middle;\n",
       "    }\n",
       "\n",
       "    .dataframe tbody tr th {\n",
       "        vertical-align: top;\n",
       "    }\n",
       "\n",
       "    .dataframe thead th {\n",
       "        text-align: right;\n",
       "    }\n",
       "</style>\n",
       "<table border=\"1\" class=\"dataframe\">\n",
       "  <thead>\n",
       "    <tr style=\"text-align: right;\">\n",
       "      <th></th>\n",
       "      <th>transactionType</th>\n",
       "      <th>transactionAmount</th>\n",
       "    </tr>\n",
       "  </thead>\n",
       "  <tbody>\n",
       "    <tr>\n",
       "      <th>0</th>\n",
       "      <td>ADDRESS_VERIFICATION</td>\n",
       "      <td>16478</td>\n",
       "    </tr>\n",
       "    <tr>\n",
       "      <th>1</th>\n",
       "      <td>PURCHASE</td>\n",
       "      <td>1500</td>\n",
       "    </tr>\n",
       "    <tr>\n",
       "      <th>2</th>\n",
       "      <td>REVERSAL</td>\n",
       "      <td>501</td>\n",
       "    </tr>\n",
       "  </tbody>\n",
       "</table>\n",
       "</div>"
      ],
      "text/plain": [
       "        transactionType  transactionAmount\n",
       "0  ADDRESS_VERIFICATION              16478\n",
       "1              PURCHASE               1500\n",
       "2              REVERSAL                501"
      ]
     },
     "execution_count": 11,
     "metadata": {},
     "output_type": "execute_result"
    }
   ],
   "source": [
    "transactions_raw[transactions_raw['transactionAmount']==0].groupby('transactionType',as_index=False).agg({'transactionAmount':'count'})"
   ]
  },
  {
   "cell_type": "markdown",
   "metadata": {
    "heading_collapsed": true
   },
   "source": [
    "## Question 3: Data Wrangling - Duplicate Transactions"
   ]
  },
  {
   "cell_type": "markdown",
   "metadata": {
    "hidden": true
   },
   "source": [
    "**You will notice a number of what look like duplicated transactions in the data set. One type of duplicated transaction is a multi-swipe, where a vendor accidentally charges a customer's card multiple times within a short time span. Another example is a reversed transaction, where a purchase is followed by a reversal.**\n",
    "\n",
    "- Can you programmatically identify duplicated and reversed transactions?\n",
    "- Did you find anything interesting about either of these transaction types?\n",
    "- What share of transactions (both number of transactions and the dollar amount) do you estimate for the duplicated and reversed transaction types that you identified? In a multi-swipe transaction, please consider the first transaction to be \"normal\" and exclude it from the number of transaction and dollar amount counts."
   ]
  },
  {
   "cell_type": "markdown",
   "metadata": {
    "heading_collapsed": true,
    "hidden": true
   },
   "source": [
    "### Multi-Swipe Transactions"
   ]
  },
  {
   "cell_type": "code",
   "execution_count": 12,
   "metadata": {
    "hidden": true
   },
   "outputs": [],
   "source": [
    "#----------------------------------------------------------------------------------------------------\n",
    "# create subset of data for analysis where the transactionAmount & vendor on a purchase transaction are the same for an account\n",
    "#----------------------------------------------------------------------------------------------------\n",
    "\n",
    "duplicate_cols = ['accountNumber','merchantName','transactionAmount']\n",
    "keep_cols = duplicate_cols + ['transactionDateTime','transactionType']\n",
    "\n",
    "purchase_fltr = transactions_raw['transactionType'] == 'PURCHASE'\n",
    "\n",
    "duplicates = transactions_raw[purchase_fltr][duplicate_cols].duplicated(keep=False)\n",
    "\n",
    "multi_swipe = transactions_raw[purchase_fltr][duplicates][keep_cols].sort_values(by=keep_cols)"
   ]
  },
  {
   "cell_type": "code",
   "execution_count": 13,
   "metadata": {
    "hidden": true
   },
   "outputs": [],
   "source": [
    "#----------------------------------------------------------------------------------------------------\n",
    "# create new variable which is the previous transactions timestamp to determine the time between transactions\n",
    "# this will help define a cut-off point/duration for a 'multi-swipe' transaction vs. a subscription\n",
    "#----------------------------------------------------------------------------------------------------\n",
    "\n",
    "multi_swipe['transactionDateTime_lag'] = multi_swipe.groupby(duplicate_cols)['transactionDateTime'].shift(1)\n",
    "\n",
    "multi_swipe['duration_s'] = (multi_swipe['transactionDateTime'] - multi_swipe['transactionDateTime_lag']).astype('timedelta64[s]')"
   ]
  },
  {
   "cell_type": "code",
   "execution_count": 14,
   "metadata": {
    "hidden": true
   },
   "outputs": [
    {
     "data": {
      "image/png": "[encoded data removed]",
      "text/plain": [
       "<Figure size 432x288 with 1 Axes>"
      ]
     },
     "metadata": {
      "needs_background": "light"
     },
     "output_type": "display_data"
    }
   ],
   "source": [
    "#----------------------------------------------------------------------------------------------------\n",
    "# distribution of time (seconds) between potential duplicate transactions\n",
    "#----------------------------------------------------------------------------------------------------\n",
    "\n",
    "duration_window_s = 600\n",
    "\n",
    "multi_swipe_obs = multi_swipe[multi_swipe['duration_s'] <= duration_window_s]\n",
    "\n",
    "var = multi_swipe_obs['duration_s'].dropna()\n",
    "\n",
    "weights = np.ones_like(var)/len(var)\n",
    "\n",
    "plt.hist(var, bins=20, weights=weights)\n",
    "\n",
    "plt.show()"
   ]
  },
  {
   "cell_type": "markdown",
   "metadata": {
    "hidden": true
   },
   "source": [
    "Limited histogram window to within 10 min. period based on observation of results and intuition on how a mult-swipe transaction might occur. Based on the data, all duplicate transactions occur within 3 minutes or hours later (potentially subscription services). I've decided to define a multi-swipe transaction as a purchase transaction with the same vendor and amount within a 3 minute time period. This seems like a reasonable real-world scenario where the employee may ask to re-run your card during the transaction if it appears as though it didn't go through."
   ]
  },
  {
   "cell_type": "code",
   "execution_count": 15,
   "metadata": {
    "hidden": true
   },
   "outputs": [
    {
     "data": {
      "text/html": [
       "<div>\n",
       "<style scoped>\n",
       "    .dataframe tbody tr th:only-of-type {\n",
       "        vertical-align: middle;\n",
       "    }\n",
       "\n",
       "    .dataframe tbody tr th {\n",
       "        vertical-align: top;\n",
       "    }\n",
       "\n",
       "    .dataframe thead th {\n",
       "        text-align: right;\n",
       "    }\n",
       "</style>\n",
       "<table border=\"1\" class=\"dataframe\">\n",
       "  <thead>\n",
       "    <tr style=\"text-align: right;\">\n",
       "      <th></th>\n",
       "      <th>accountNumber</th>\n",
       "      <th>merchantName</th>\n",
       "      <th>transactionAmount</th>\n",
       "      <th>transactionDateTime</th>\n",
       "      <th>transactionType</th>\n",
       "      <th>transactionDateTime_lag</th>\n",
       "      <th>duration_s</th>\n",
       "    </tr>\n",
       "  </thead>\n",
       "  <tbody>\n",
       "    <tr>\n",
       "      <th>21092</th>\n",
       "      <td>102307135</td>\n",
       "      <td>Universe Massage #777394</td>\n",
       "      <td>255.05</td>\n",
       "      <td>2016-05-24 22:54:22</td>\n",
       "      <td>PURCHASE</td>\n",
       "      <td>2016-05-24 22:52:55</td>\n",
       "      <td>87.0</td>\n",
       "    </tr>\n",
       "    <tr>\n",
       "      <th>478651</th>\n",
       "      <td>104678966</td>\n",
       "      <td>AMC #128743</td>\n",
       "      <td>635.18</td>\n",
       "      <td>2016-12-26 21:38:14</td>\n",
       "      <td>PURCHASE</td>\n",
       "      <td>2016-12-26 21:37:31</td>\n",
       "      <td>43.0</td>\n",
       "    </tr>\n",
       "    <tr>\n",
       "      <th>81298</th>\n",
       "      <td>104679201</td>\n",
       "      <td>1st Sandwitch Bar #801388</td>\n",
       "      <td>8.24</td>\n",
       "      <td>2016-08-17 12:09:11</td>\n",
       "      <td>PURCHASE</td>\n",
       "      <td>2016-08-17 12:07:06</td>\n",
       "      <td>125.0</td>\n",
       "    </tr>\n",
       "    <tr>\n",
       "      <th>81207</th>\n",
       "      <td>104679201</td>\n",
       "      <td>1st Sandwitch Bar #941288</td>\n",
       "      <td>18.90</td>\n",
       "      <td>2016-06-01 14:42:00</td>\n",
       "      <td>PURCHASE</td>\n",
       "      <td>2016-06-01 14:41:34</td>\n",
       "      <td>26.0</td>\n",
       "    </tr>\n",
       "    <tr>\n",
       "      <th>81436</th>\n",
       "      <td>104679201</td>\n",
       "      <td>Best Fries</td>\n",
       "      <td>65.55</td>\n",
       "      <td>2016-12-10 10:47:33</td>\n",
       "      <td>PURCHASE</td>\n",
       "      <td>2016-12-10 10:46:55</td>\n",
       "      <td>38.0</td>\n",
       "    </tr>\n",
       "  </tbody>\n",
       "</table>\n",
       "</div>"
      ],
      "text/plain": [
       "        accountNumber               merchantName  transactionAmount  \\\n",
       "21092       102307135   Universe Massage #777394             255.05   \n",
       "478651      104678966                AMC #128743             635.18   \n",
       "81298       104679201  1st Sandwitch Bar #801388               8.24   \n",
       "81207       104679201  1st Sandwitch Bar #941288              18.90   \n",
       "81436       104679201                 Best Fries              65.55   \n",
       "\n",
       "       transactionDateTime transactionType transactionDateTime_lag  duration_s  \n",
       "21092  2016-05-24 22:54:22        PURCHASE     2016-05-24 22:52:55        87.0  \n",
       "478651 2016-12-26 21:38:14        PURCHASE     2016-12-26 21:37:31        43.0  \n",
       "81298  2016-08-17 12:09:11        PURCHASE     2016-08-17 12:07:06       125.0  \n",
       "81207  2016-06-01 14:42:00        PURCHASE     2016-06-01 14:41:34        26.0  \n",
       "81436  2016-12-10 10:47:33        PURCHASE     2016-12-10 10:46:55        38.0  "
      ]
     },
     "execution_count": 15,
     "metadata": {},
     "output_type": "execute_result"
    }
   ],
   "source": [
    "#----------------------------------------------------------------------------------------------------\n",
    "# the following code (in combination with the two cells above the histogram) \n",
    "#   removes the multi-swipe transactions as defined above\n",
    "#----------------------------------------------------------------------------------------------------\n",
    "\n",
    "duration_window_s = 180\n",
    "\n",
    "multi_swipe_obs = multi_swipe[multi_swipe['duration_s'] <= duration_window_s]\n",
    "\n",
    "multi_swipe_obs.head()"
   ]
  },
  {
   "cell_type": "markdown",
   "metadata": {
    "heading_collapsed": true,
    "hidden": true
   },
   "source": [
    "### Reversed Transactions"
   ]
  },
  {
   "cell_type": "code",
   "execution_count": 16,
   "metadata": {
    "hidden": true
   },
   "outputs": [],
   "source": [
    "#----------------------------------------------------------------------------------------------------\n",
    "# create subset of data for analysis where the transactionAmount & vendor on a transaction are the same for an account\n",
    "#----------------------------------------------------------------------------------------------------\n",
    "\n",
    "duplicate_cols = ['accountNumber','merchantName','transactionAmount']\n",
    "keep_cols = duplicate_cols + ['transactionDateTime','transactionType']\n",
    "\n",
    "duplicates = transactions_raw[duplicate_cols].duplicated(keep=False)\n",
    "\n",
    "reverse_trans = transactions_raw[duplicates][keep_cols].sort_values(by=keep_cols)"
   ]
  },
  {
   "cell_type": "code",
   "execution_count": 17,
   "metadata": {
    "hidden": true
   },
   "outputs": [],
   "source": [
    "#----------------------------------------------------------------------------------------------------\n",
    "# create two new variables which are the previous transactions type & timestamp to help define a reverse transaction\n",
    "#----------------------------------------------------------------------------------------------------\n",
    "\n",
    "reverse_trans['transactionType_lag'] = reverse_trans.groupby(duplicate_cols)['transactionType'].shift(1)\n",
    "reverse_trans['transactionType_lead'] = reverse_trans.groupby(duplicate_cols)['transactionType'].shift(-1)\n",
    "reverse_trans['transactionDateTime_lag'] = reverse_trans.groupby(duplicate_cols)['transactionDateTime'].shift(1)\n",
    "\n",
    "reverse_trans['duration_d'] = (reverse_trans['transactionDateTime'] - reverse_trans['transactionDateTime_lag']).astype('timedelta64[D]')"
   ]
  },
  {
   "cell_type": "code",
   "execution_count": 18,
   "metadata": {
    "hidden": true
   },
   "outputs": [
    {
     "data": {
      "image/png": "[encoded data removed]",
      "text/plain": [
       "<Figure size 432x288 with 1 Axes>"
      ]
     },
     "metadata": {
      "needs_background": "light"
     },
     "output_type": "display_data"
    }
   ],
   "source": [
    "#----------------------------------------------------------------------------------------------------\n",
    "# distribution of time (days) between reversal transactions\n",
    "#----------------------------------------------------------------------------------------------------\n",
    "\n",
    "duration_window_d = 360\n",
    "\n",
    "reverse_trans_obs = reverse_trans[reverse_trans['duration_d'] <= duration_window_d]\n",
    "\n",
    "var = reverse_trans_obs['duration_d'].dropna()\n",
    "\n",
    "weights = np.ones_like(var)/len(var)\n",
    "\n",
    "plt.hist(var, bins=36, weights=weights)\n",
    "\n",
    "plt.show()"
   ]
  },
  {
   "cell_type": "code",
   "execution_count": 19,
   "metadata": {
    "hidden": true
   },
   "outputs": [
    {
     "data": {
      "text/html": [
       "<div>\n",
       "<style scoped>\n",
       "    .dataframe tbody tr th:only-of-type {\n",
       "        vertical-align: middle;\n",
       "    }\n",
       "\n",
       "    .dataframe tbody tr th {\n",
       "        vertical-align: top;\n",
       "    }\n",
       "\n",
       "    .dataframe thead th {\n",
       "        text-align: right;\n",
       "    }\n",
       "</style>\n",
       "<table border=\"1\" class=\"dataframe\">\n",
       "  <thead>\n",
       "    <tr style=\"text-align: right;\">\n",
       "      <th></th>\n",
       "      <th>accountNumber</th>\n",
       "      <th>merchantName</th>\n",
       "      <th>transactionAmount</th>\n",
       "      <th>transactionDateTime</th>\n",
       "      <th>transactionType</th>\n",
       "      <th>transactionType_lag</th>\n",
       "      <th>transactionType_lead</th>\n",
       "      <th>transactionDateTime_lag</th>\n",
       "      <th>duration_d</th>\n",
       "    </tr>\n",
       "  </thead>\n",
       "  <tbody>\n",
       "    <tr>\n",
       "      <th>583531</th>\n",
       "      <td>100547107</td>\n",
       "      <td>Dunkin' Donuts #164240</td>\n",
       "      <td>223.42</td>\n",
       "      <td>2016-08-22 20:35:41</td>\n",
       "      <td>PURCHASE</td>\n",
       "      <td>NaN</td>\n",
       "      <td>REVERSAL</td>\n",
       "      <td>NaT</td>\n",
       "      <td>NaN</td>\n",
       "    </tr>\n",
       "    <tr>\n",
       "      <th>583532</th>\n",
       "      <td>100547107</td>\n",
       "      <td>Dunkin' Donuts #164240</td>\n",
       "      <td>223.42</td>\n",
       "      <td>2016-08-22 20:36:57</td>\n",
       "      <td>REVERSAL</td>\n",
       "      <td>PURCHASE</td>\n",
       "      <td>NaN</td>\n",
       "      <td>2016-08-22 20:35:41</td>\n",
       "      <td>0.0</td>\n",
       "    </tr>\n",
       "    <tr>\n",
       "      <th>583564</th>\n",
       "      <td>100547107</td>\n",
       "      <td>Subway #540372</td>\n",
       "      <td>316.52</td>\n",
       "      <td>2016-12-19 19:11:13</td>\n",
       "      <td>PURCHASE</td>\n",
       "      <td>NaN</td>\n",
       "      <td>REVERSAL</td>\n",
       "      <td>NaT</td>\n",
       "      <td>NaN</td>\n",
       "    </tr>\n",
       "    <tr>\n",
       "      <th>583565</th>\n",
       "      <td>100547107</td>\n",
       "      <td>Subway #540372</td>\n",
       "      <td>316.52</td>\n",
       "      <td>2016-12-19 19:11:57</td>\n",
       "      <td>REVERSAL</td>\n",
       "      <td>PURCHASE</td>\n",
       "      <td>NaN</td>\n",
       "      <td>2016-12-19 19:11:13</td>\n",
       "      <td>0.0</td>\n",
       "    </tr>\n",
       "    <tr>\n",
       "      <th>104583</th>\n",
       "      <td>100634414</td>\n",
       "      <td>Dunkin' Donuts #48174</td>\n",
       "      <td>85.51</td>\n",
       "      <td>2016-06-13 20:49:02</td>\n",
       "      <td>PURCHASE</td>\n",
       "      <td>NaN</td>\n",
       "      <td>REVERSAL</td>\n",
       "      <td>NaT</td>\n",
       "      <td>NaN</td>\n",
       "    </tr>\n",
       "    <tr>\n",
       "      <th>104585</th>\n",
       "      <td>100634414</td>\n",
       "      <td>Dunkin' Donuts #48174</td>\n",
       "      <td>85.51</td>\n",
       "      <td>2016-06-29 09:33:16</td>\n",
       "      <td>REVERSAL</td>\n",
       "      <td>PURCHASE</td>\n",
       "      <td>NaN</td>\n",
       "      <td>2016-06-13 20:49:02</td>\n",
       "      <td>15.0</td>\n",
       "    </tr>\n",
       "  </tbody>\n",
       "</table>\n",
       "</div>"
      ],
      "text/plain": [
       "        accountNumber            merchantName  transactionAmount  \\\n",
       "583531      100547107  Dunkin' Donuts #164240             223.42   \n",
       "583532      100547107  Dunkin' Donuts #164240             223.42   \n",
       "583564      100547107          Subway #540372             316.52   \n",
       "583565      100547107          Subway #540372             316.52   \n",
       "104583      100634414   Dunkin' Donuts #48174              85.51   \n",
       "104585      100634414   Dunkin' Donuts #48174              85.51   \n",
       "\n",
       "       transactionDateTime transactionType transactionType_lag  \\\n",
       "583531 2016-08-22 20:35:41        PURCHASE                 NaN   \n",
       "583532 2016-08-22 20:36:57        REVERSAL            PURCHASE   \n",
       "583564 2016-12-19 19:11:13        PURCHASE                 NaN   \n",
       "583565 2016-12-19 19:11:57        REVERSAL            PURCHASE   \n",
       "104583 2016-06-13 20:49:02        PURCHASE                 NaN   \n",
       "104585 2016-06-29 09:33:16        REVERSAL            PURCHASE   \n",
       "\n",
       "       transactionType_lead transactionDateTime_lag  duration_d  \n",
       "583531             REVERSAL                     NaT         NaN  \n",
       "583532                  NaN     2016-08-22 20:35:41         0.0  \n",
       "583564             REVERSAL                     NaT         NaN  \n",
       "583565                  NaN     2016-12-19 19:11:13         0.0  \n",
       "104583             REVERSAL                     NaT         NaN  \n",
       "104585                  NaN     2016-06-13 20:49:02        15.0  "
      ]
     },
     "execution_count": 19,
     "metadata": {},
     "output_type": "execute_result"
    }
   ],
   "source": [
    "#----------------------------------------------------------------------------------------------------\n",
    "# create two new variables which are the previous transactions type & timestamp to help define a reverse transaction\n",
    "#----------------------------------------------------------------------------------------------------\n",
    "\n",
    "purchases = (reverse_trans['transactionType']=='PURCHASE') & (reverse_trans['transactionType_lead']=='REVERSAL')\n",
    "reversals = (reverse_trans['transactionType']=='REVERSAL') & (reverse_trans['transactionType_lag']=='PURCHASE')\n",
    "\n",
    "reverse_trans_obs = reverse_trans[purchases | reversals]\n",
    "\n",
    "reverse_trans_obs.head(6)"
   ]
  },
  {
   "cell_type": "markdown",
   "metadata": {
    "heading_collapsed": true,
    "hidden": true
   },
   "source": [
    "### Results Summary"
   ]
  },
  {
   "cell_type": "markdown",
   "metadata": {
    "hidden": true
   },
   "source": [
    "**Did you find anything interesting about either transaction?**"
   ]
  },
  {
   "cell_type": "code",
   "execution_count": 20,
   "metadata": {
    "hidden": true
   },
   "outputs": [
    {
     "name": "stdout",
     "output_type": "stream",
     "text": [
      "121\n"
     ]
    }
   ],
   "source": [
    "reversed_multi_swiped_trans = len(multi_swipe_obs.index & reverse_trans_obs.index)\n",
    "\n",
    "print(reversed_multi_swiped_trans)"
   ]
  },
  {
   "cell_type": "markdown",
   "metadata": {
    "hidden": true
   },
   "source": [
    "- Multi-swipe transactions seem to occur within 3 minutes or less.\n",
    "- Reverse transactions occur within 365 days (assuming this is because of company return limits). There is a spike around 30 days, which I assume is also related to specific company return limits.\n",
    "- There are a portion of transactions that appear to be multi-swipe transactions which are reversed later.\n",
    " - Estimated number of transactions (not including the reversal): 121"
   ]
  },
  {
   "cell_type": "markdown",
   "metadata": {
    "hidden": true
   },
   "source": [
    "**What share of transactions (both number of transactions and the dollar amount) do you estimate for the duplicated and reversed transaction types that you identified? In a multi-swipe transaction, please consider the first transaction to be \"normal\" and exclude it from the number of transaction and dollar amount counts.**\n",
    "\n",
    "*for calculation purposes, all transaction amounts considered positive (ie reversal transactions values are not interpreted as negative amounts)"
   ]
  },
  {
   "cell_type": "code",
   "execution_count": 21,
   "metadata": {
    "hidden": true
   },
   "outputs": [
    {
     "name": "stdout",
     "output_type": "stream",
     "text": [
      "641914\n",
      "86762699.08999997\n"
     ]
    }
   ],
   "source": [
    "#----------------------------------------------------------------------------------------------------\n",
    "# total (raw) transaction amount and counts\n",
    "#----------------------------------------------------------------------------------------------------\n",
    "\n",
    "total_transaction_count = rows\n",
    "total_transaction_amount = np.sum(transactions_raw['transactionAmount'])\n",
    "\n",
    "print(total_transaction_count)\n",
    "print(total_transaction_amount)"
   ]
  },
  {
   "cell_type": "code",
   "execution_count": 22,
   "metadata": {
    "hidden": true
   },
   "outputs": [
    {
     "name": "stdout",
     "output_type": "stream",
     "text": [
      "5989\n",
      "886953.5800000001\n",
      "0.009329910237196882\n",
      "0.010222752280677122\n"
     ]
    }
   ],
   "source": [
    "#----------------------------------------------------------------------------------------------------\n",
    "# mult-swipe transaction amount and counts\n",
    "#----------------------------------------------------------------------------------------------------\n",
    "\n",
    "multi_swipe_count = len(multi_swipe_obs)\n",
    "multi_swipe_amount = np.sum(multi_swipe_obs['transactionAmount'])\n",
    "\n",
    "print(multi_swipe_count)\n",
    "print(multi_swipe_amount)\n",
    "\n",
    "print(multi_swipe_count/total_transaction_count)\n",
    "print(multi_swipe_amount/total_transaction_amount)"
   ]
  },
  {
   "cell_type": "code",
   "execution_count": 23,
   "metadata": {
    "hidden": true
   },
   "outputs": [
    {
     "name": "stdout",
     "output_type": "stream",
     "text": [
      "28178\n",
      "4239436.62\n",
      "0.043896845994946365\n",
      "0.04886243356263482\n"
     ]
    }
   ],
   "source": [
    "#----------------------------------------------------------------------------------------------------\n",
    "# reverse transactions transaction amount and counts\n",
    "#----------------------------------------------------------------------------------------------------\n",
    "\n",
    "reverse_trans_count = len(reverse_trans_obs)\n",
    "reverse_trans_amount = np.sum(reverse_trans_obs['transactionAmount'])\n",
    "\n",
    "print(reverse_trans_count)\n",
    "print(reverse_trans_amount)\n",
    "\n",
    "print(reverse_trans_count/total_transaction_count)\n",
    "print(reverse_trans_amount/total_transaction_amount)"
   ]
  },
  {
   "cell_type": "markdown",
   "metadata": {
    "hidden": true
   },
   "source": [
    "**Total Transactions**\n",
    "- Number of transactions: 641,914\n",
    "- Amount of transactions: $86,762,699\n",
    "\n",
    "**Multi-swipe Transactions**\n",
    "- Number (%) of transactions: 5,989 (0.93%)\n",
    "- Amount (%) of transactions: $886,953 (1.02%)\n",
    "\n",
    "**Reverse Transactions**\n",
    "- Number (%) of transactions: 28,178 (4.39%)\n",
    "- Amount (%) of transactions: $4,239,436 (4.89%)"
   ]
  },
  {
   "cell_type": "markdown",
   "metadata": {},
   "source": [
    "## Question 4: Model"
   ]
  },
  {
   "cell_type": "markdown",
   "metadata": {},
   "source": [
    "**Fraud is a problem for any bank. Fraud can take many forms, whether it is someone stealing a single credit card, to large batches of stolen credit card numbers being used on the web, or even a mass compromise of credit card numbers stolen from a merchant via tools like credit card skimming devices.**\n",
    "\n",
    "- Each of the transactions in the dataset has a field called isFraud. Please build a predictive model to determine whether a given transaction will be fraudulent or not. Use as much of the data as you like (or all of it).\n",
    "- Provide an estimate of performance using an appropriate sample, and show your work.\n",
    "- Please explain your methodology (modeling algorithm/method used and why, what features/data you found useful, what questions you have, and what you would do next with more time)"
   ]
  },
  {
   "cell_type": "markdown",
   "metadata": {},
   "source": [
    "### Data Exploration"
   ]
  },
  {
   "cell_type": "code",
   "execution_count": 24,
   "metadata": {},
   "outputs": [],
   "source": [
    "#------------------------------------------------------------------------------------------\n",
    "# variable transformations\n",
    "#------------------------------------------------------------------------------------------\n",
    "\n",
    "transactions_raw['months_account_open'] = (transactions_raw['transactionDateTime'] - transactions_raw['accountOpenDate']).astype('timedelta64[M]')\n",
    "transactions_raw['months_address_change'] = (transactions_raw['transactionDateTime'] - transactions_raw['dateOfLastAddressChange']).astype('timedelta64[M]')\n",
    "transactions_raw['transaction_month'] = pd.DatetimeIndex(transactions_raw['transactionDateTime']).month\n",
    "transactions_raw['transaction_hour'] = pd.DatetimeIndex(transactions_raw['transactionDateTime']).hour\n",
    "transactions_raw['valid_CVV'] = (transactions_raw['cardCVV'] == transactions_raw['enteredCVV']) * 1\n",
    "transactions_raw['expirationDateKeyInMatch'] = transactions_raw['expirationDateKeyInMatch'] * 1\n",
    "transactions_raw['cardPresent'] = transactions_raw['cardPresent'] * 1\n",
    "transactions_raw['merchant_name_condensed'] = transactions_raw['merchantName'].apply(lambda x: x.split('#')[0].strip())"
   ]
  },
  {
   "cell_type": "markdown",
   "metadata": {
    "heading_collapsed": true
   },
   "source": [
    "#### Categorical Features"
   ]
  },
  {
   "cell_type": "code",
   "execution_count": 25,
   "metadata": {
    "hidden": true
   },
   "outputs": [
    {
     "name": "stdout",
     "output_type": "stream",
     "text": [
      "               merchantName  isFraud  accountNumber\n",
      "782   Hilton Hotels #151328      0.0             96\n",
      "912        In-N-Out #711158      0.0             89\n",
      "1994     Sunoco Gas #387323      0.0            184\n",
      "1995     Sunoco Gas #398682      0.0            119\n",
      "1996     Sunoco Gas #403204      0.0            244\n",
      "1997     Sunoco Gas #413153      0.0            183\n",
      "1998     Sunoco Gas #418291      0.0            177\n",
      "1993     Sunoco Gas #380975      0.0             84\n",
      "1999     Sunoco Gas #425592      0.0            271\n",
      "2001     Sunoco Gas #482324      0.0            265\n",
      "             merchantName   isFraud  accountNumber\n",
      "849   Hyatt House #461673  0.125000            104\n",
      "859   Hyatt House #687337  0.125000            112\n",
      "852   Hyatt House #524654  0.125000            120\n",
      "1445  Powerlifting #95081  0.129032             31\n",
      "1181         NYSC #746171  0.130435             23\n",
      "858   Hyatt House #686333  0.134146             82\n",
      "2328    Walgreens #856780  0.157895             19\n",
      "575           Fast Repair  0.172084            523\n",
      "860   Hyatt House #691218  0.175926            108\n",
      "863   Hyatt House #786719  0.195652             92\n"
     ]
    }
   ],
   "source": [
    "var = 'merchantName'\n",
    "\n",
    "temp_df = transactions_raw.groupby(var, as_index=False).agg({'isFraud':'mean','accountNumber':'count'}).sort_values('isFraud')\n",
    "\n",
    "print(temp_df.iloc[:10])\n",
    "print(temp_df.iloc[-10:])"
   ]
  },
  {
   "cell_type": "code",
   "execution_count": 26,
   "metadata": {
    "hidden": true
   },
   "outputs": [
    {
     "name": "stdout",
     "output_type": "stream",
     "text": [
      "    merchant_name_condensed  isFraud  accountNumber\n",
      "155               Texas Gas      0.0           4163\n",
      "149              Sprint PCS      0.0            307\n",
      "184                 abc.com      0.0           2894\n",
      "22                 Barbells      0.0            214\n",
      "138               Shell Gas      0.0           6350\n",
      "112       Northtown Massage      0.0            237\n",
      "30             Boost Mobile      0.0            213\n",
      "148   Sprint Communications      0.0            136\n",
      "59               Duane Reed      0.0             28\n",
      "104                 MyApron      0.0           1102\n",
      "     merchant_name_condensed   isFraud  accountNumber\n",
      "16         American Airlines  0.036254           1986\n",
      "95           Marriott Hotels  0.036697            109\n",
      "23               Best Bistro  0.037868           1426\n",
      "40  Convenient Auto Services  0.038241            523\n",
      "88             John's Bistro  0.038411            755\n",
      "33              Boston Diner  0.038674            724\n",
      "5                   34th BBQ  0.040661           5927\n",
      "66               Ethan Allen  0.054054            555\n",
      "85               Hyatt House  0.101999           3451\n",
      "69               Fast Repair  0.172084            523\n"
     ]
    }
   ],
   "source": [
    "var = 'merchant_name_condensed'\n",
    "\n",
    "temp_df = transactions_raw.groupby(var, as_index=False).agg({'isFraud':'mean','accountNumber':'count'}).sort_values('isFraud')\n",
    "\n",
    "print(temp_df.iloc[:10])\n",
    "print(temp_df.iloc[-10:])"
   ]
  },
  {
   "cell_type": "code",
   "execution_count": 27,
   "metadata": {
    "hidden": true
   },
   "outputs": [],
   "source": [
    "#----------------------------------------------------------------------------------------------------\n",
    "# function to create a bar chart displaying fraud rate by value for an input variable\n",
    "#----------------------------------------------------------------------------------------------------\n",
    "\n",
    "def categoricalBivariatePlot(var):\n",
    "    tmp_df = (transactions_raw\n",
    "              .groupby(var, as_index=False)\n",
    "              .agg({'isFraud':'mean'})\n",
    "              .sort_values('isFraud')\n",
    "             )\n",
    "    \n",
    "    plt.bar(tmp_df[var], tmp_df.isFraud)\n",
    "    plt.xticks(rotation=90)    \n",
    "    plt.title(var)\n",
    "    plt.show()    "
   ]
  },
  {
   "cell_type": "code",
   "execution_count": 28,
   "metadata": {
    "hidden": true
   },
   "outputs": [
    {
     "data": {
      "image/png": "[encoded data removed]",
      "text/plain": [
       "<Figure size 432x288 with 1 Axes>"
      ]
     },
     "metadata": {
      "needs_background": "light"
     },
     "output_type": "display_data"
    }
   ],
   "source": [
    "var = 'acqCountry'\n",
    "\n",
    "categoricalBivariatePlot(var)"
   ]
  },
  {
   "cell_type": "code",
   "execution_count": 29,
   "metadata": {
    "hidden": true
   },
   "outputs": [
    {
     "data": {
      "image/png": "[encoded data removed]",
      "text/plain": [
       "<Figure size 432x288 with 1 Axes>"
      ]
     },
     "metadata": {
      "needs_background": "light"
     },
     "output_type": "display_data"
    }
   ],
   "source": [
    "var = 'merchantCategoryCode'\n",
    "\n",
    "categoricalBivariatePlot(var)"
   ]
  },
  {
   "cell_type": "code",
   "execution_count": 30,
   "metadata": {
    "hidden": true
   },
   "outputs": [
    {
     "data": {
      "image/png": "[encoded data removed]",
      "text/plain": [
       "<Figure size 432x288 with 1 Axes>"
      ]
     },
     "metadata": {
      "needs_background": "light"
     },
     "output_type": "display_data"
    }
   ],
   "source": [
    "var = 'merchantCountryCode'\n",
    "\n",
    "\n",
    "categoricalBivariatePlot(var)"
   ]
  },
  {
   "cell_type": "code",
   "execution_count": 31,
   "metadata": {
    "hidden": true
   },
   "outputs": [
    {
     "data": {
      "image/png": "[encoded data removed]",
      "text/plain": [
       "<Figure size 432x288 with 1 Axes>"
      ]
     },
     "metadata": {
      "needs_background": "light"
     },
     "output_type": "display_data"
    }
   ],
   "source": [
    "var = 'posConditionCode'\n",
    "\n",
    "categoricalBivariatePlot(var)"
   ]
  },
  {
   "cell_type": "code",
   "execution_count": 32,
   "metadata": {
    "hidden": true
   },
   "outputs": [
    {
     "data": {
      "image/png": "[encoded data removed]",
      "text/plain": [
       "<Figure size 432x288 with 1 Axes>"
      ]
     },
     "metadata": {
      "needs_background": "light"
     },
     "output_type": "display_data"
    }
   ],
   "source": [
    "var = 'posEntryMode'\n",
    "\n",
    "categoricalBivariatePlot(var)"
   ]
  },
  {
   "cell_type": "code",
   "execution_count": 33,
   "metadata": {
    "hidden": true
   },
   "outputs": [
    {
     "data": {
      "image/png": "[encoded data removed]",
      "text/plain": [
       "<Figure size 432x288 with 1 Axes>"
      ]
     },
     "metadata": {
      "needs_background": "light"
     },
     "output_type": "display_data"
    }
   ],
   "source": [
    "var = 'valid_CVV'\n",
    "\n",
    "categoricalBivariatePlot(var)"
   ]
  },
  {
   "cell_type": "code",
   "execution_count": 34,
   "metadata": {
    "hidden": true
   },
   "outputs": [
    {
     "data": {
      "image/png": "[encoded data removed]",
      "text/plain": [
       "<Figure size 432x288 with 1 Axes>"
      ]
     },
     "metadata": {
      "needs_background": "light"
     },
     "output_type": "display_data"
    }
   ],
   "source": [
    "var = 'expirationDateKeyInMatch'\n",
    "\n",
    "categoricalBivariatePlot(var)"
   ]
  },
  {
   "cell_type": "code",
   "execution_count": 35,
   "metadata": {
    "hidden": true
   },
   "outputs": [
    {
     "data": {
      "image/png": "[encoded data removed]",
      "text/plain": [
       "<Figure size 432x288 with 1 Axes>"
      ]
     },
     "metadata": {
      "needs_background": "light"
     },
     "output_type": "display_data"
    }
   ],
   "source": [
    "var = 'transactionType'\n",
    "\n",
    "categoricalBivariatePlot(var)"
   ]
  },
  {
   "cell_type": "code",
   "execution_count": 36,
   "metadata": {
    "hidden": true
   },
   "outputs": [
    {
     "data": {
      "image/png": "[encoded data removed]",
      "text/plain": [
       "<Figure size 432x288 with 1 Axes>"
      ]
     },
     "metadata": {
      "needs_background": "light"
     },
     "output_type": "display_data"
    }
   ],
   "source": [
    "var = 'cardPresent'\n",
    "\n",
    "categoricalBivariatePlot(var)"
   ]
  },
  {
   "cell_type": "markdown",
   "metadata": {
    "heading_collapsed": true
   },
   "source": [
    "#### Continuous Features"
   ]
  },
  {
   "cell_type": "code",
   "execution_count": 37,
   "metadata": {
    "hidden": true
   },
   "outputs": [],
   "source": [
    "#----------------------------------------------------------------------------------------------------\n",
    "# function to create a bar chart displaying fraud rate by value for an input variable\n",
    "#  optional parameter for n quantiles\n",
    "#----------------------------------------------------------------------------------------------------\n",
    "\n",
    "def continuousBivariatePlot(var, n_bins = None):\n",
    "    tmp_df = transactions_raw[[var,'isFraud']]\n",
    "    \n",
    "    if n_bins:\n",
    "        tmp_df[var + '_bin'] = pd.qcut(tmp_df[var], n_bins)\n",
    "        plot_var = var + '_bin'\n",
    "    else:\n",
    "        plot_var = var\n",
    "\n",
    "    plot_df = (tmp_df\n",
    "               .groupby(plot_var, as_index=False)\n",
    "               .agg({'isFraud':'mean'})\n",
    "               .sort_values(plot_var)\n",
    "              )\n",
    "    plt.bar(plot_df.index, plot_df.isFraud)\n",
    "    plt.xticks(range(len(plot_df[plot_var])),plot_df[plot_var], rotation=90)\n",
    "    plt.title(var)\n",
    "    plt.show()"
   ]
  },
  {
   "cell_type": "code",
   "execution_count": 38,
   "metadata": {
    "hidden": true
   },
   "outputs": [
    {
     "data": {
      "image/png": "[encoded data removed]",
      "text/plain": [
       "<Figure size 432x288 with 1 Axes>"
      ]
     },
     "metadata": {
      "needs_background": "light"
     },
     "output_type": "display_data"
    }
   ],
   "source": [
    "var = 'transaction_month'\n",
    "\n",
    "continuousBivariatePlot(var)"
   ]
  },
  {
   "cell_type": "code",
   "execution_count": 39,
   "metadata": {
    "hidden": true
   },
   "outputs": [
    {
     "data": {
      "image/png": "[encoded data removed]",
      "text/plain": [
       "<Figure size 432x288 with 1 Axes>"
      ]
     },
     "metadata": {
      "needs_background": "light"
     },
     "output_type": "display_data"
    }
   ],
   "source": [
    "var = 'transaction_hour'\n",
    "\n",
    "continuousBivariatePlot(var)"
   ]
  },
  {
   "cell_type": "code",
   "execution_count": 40,
   "metadata": {
    "hidden": true
   },
   "outputs": [
    {
     "data": {
      "image/png": "[encoded data removed]",
      "text/plain": [
       "<Figure size 432x288 with 1 Axes>"
      ]
     },
     "metadata": {
      "needs_background": "light"
     },
     "output_type": "display_data"
    }
   ],
   "source": [
    "var = 'months_account_open'\n",
    "\n",
    "continuousBivariatePlot(var, 20)"
   ]
  },
  {
   "cell_type": "code",
   "execution_count": 41,
   "metadata": {
    "hidden": true
   },
   "outputs": [
    {
     "data": {
      "image/png": "[encoded data removed]",
      "text/plain": [
       "<Figure size 432x288 with 1 Axes>"
      ]
     },
     "metadata": {
      "needs_background": "light"
     },
     "output_type": "display_data"
    }
   ],
   "source": [
    "var = 'months_address_change'\n",
    "\n",
    "continuousBivariatePlot(var, 6)"
   ]
  },
  {
   "cell_type": "code",
   "execution_count": 42,
   "metadata": {
    "hidden": true
   },
   "outputs": [
    {
     "data": {
      "image/png": "[encoded data removed]",
      "text/plain": [
       "<Figure size 432x288 with 1 Axes>"
      ]
     },
     "metadata": {
      "needs_background": "light"
     },
     "output_type": "display_data"
    }
   ],
   "source": [
    "var = 'transactionAmount'\n",
    "\n",
    "continuousBivariatePlot(var, 20)"
   ]
  },
  {
   "cell_type": "code",
   "execution_count": 43,
   "metadata": {
    "hidden": true
   },
   "outputs": [
    {
     "data": {
      "image/png": "[encoded data removed]",
      "text/plain": [
       "<Figure size 432x288 with 1 Axes>"
      ]
     },
     "metadata": {
      "needs_background": "light"
     },
     "output_type": "display_data"
    }
   ],
   "source": [
    "var = 'availableMoney'\n",
    "\n",
    "continuousBivariatePlot(var, 20)"
   ]
  },
  {
   "cell_type": "code",
   "execution_count": 44,
   "metadata": {
    "hidden": true
   },
   "outputs": [
    {
     "data": {
      "image/png": "[encoded data removed]",
      "text/plain": [
       "<Figure size 432x288 with 1 Axes>"
      ]
     },
     "metadata": {
      "needs_background": "light"
     },
     "output_type": "display_data"
    }
   ],
   "source": [
    "var = 'currentBalance'\n",
    "\n",
    "continuousBivariatePlot(var, 10)"
   ]
  },
  {
   "cell_type": "code",
   "execution_count": 45,
   "metadata": {
    "hidden": true
   },
   "outputs": [
    {
     "data": {
      "image/png": "[encoded data removed]",
      "text/plain": [
       "<Figure size 432x288 with 1 Axes>"
      ]
     },
     "metadata": {
      "needs_background": "light"
     },
     "output_type": "display_data"
    }
   ],
   "source": [
    "var = 'creditLimit'\n",
    "\n",
    "continuousBivariatePlot(var, 6)"
   ]
  },
  {
   "cell_type": "markdown",
   "metadata": {
    "heading_collapsed": true
   },
   "source": [
    "### Data Preparation"
   ]
  },
  {
   "cell_type": "code",
   "execution_count": 46,
   "metadata": {
    "hidden": true
   },
   "outputs": [],
   "source": [
    "#------------------------------------------------------------------------------------------\n",
    "# constants\n",
    "#------------------------------------------------------------------------------------------\n",
    "\n",
    "random_seed = 14"
   ]
  },
  {
   "cell_type": "code",
   "execution_count": 47,
   "metadata": {
    "hidden": true
   },
   "outputs": [],
   "source": [
    "#------------------------------------------------------------------------------------------\n",
    "# creating starting point for independent and dependent varaible dataframes\n",
    "#------------------------------------------------------------------------------------------\n",
    "\n",
    "initial_features = ['valid_CVV'\n",
    "                    ,'months_account_open'\n",
    "                    ,'expirationDateKeyInMatch'\n",
    "                    ,'transactionAmount'\n",
    "                    ,'currentBalance'\n",
    "                    ,'creditLimit'\n",
    "                    ,'months_address_change'\n",
    "                    ,'cardPresent'\n",
    "                    ,'transactionType' # one hot encode\n",
    "                    ,'transaction_month' # one hot encode\n",
    "                    ,'transaction_hour' # one hot encode\n",
    "                    ,'acqCountry' # one hot encode\n",
    "                    ,'merchantCategoryCode' # one hot encode\n",
    "                    ,'merchantCountryCode' # one hot encode\n",
    "                    ,'merchant_name_condensed' # one hot encode\n",
    "                    ,'posConditionCode' # one hot encode\n",
    "                    ,'posEntryMode' # one hot encode\n",
    "                   ]\n",
    "\n",
    "target = 'isFraud'\n",
    "\n",
    "x = transactions_raw[initial_features]\n",
    "y = transactions_raw[target] * 1"
   ]
  },
  {
   "cell_type": "code",
   "execution_count": 48,
   "metadata": {
    "hidden": true
   },
   "outputs": [],
   "source": [
    "#------------------------------------------------------------------------------------------\n",
    "# one hot encoding categorical variables (including variables which are integer codes)\n",
    "#------------------------------------------------------------------------------------------\n",
    "\n",
    "one_hot_encode_dict = {'acqCountry':'acqCountry','merchantCategoryCode':'merchCat'\n",
    "                       ,'merchantCountryCode':'merchCountry','merchant_name_condensed':'merchName'\n",
    "                       ,'posConditionCode':'posCondition','posEntryMode':'posEntry'\n",
    "                       ,'transactionType':'type'\n",
    "                       ,'transaction_month':'trans_month','transaction_hour':'trans_hour'\n",
    "                      }\n",
    "\n",
    "x_transformed = pd.get_dummies(x, prefix=one_hot_encode_dict, columns=list(one_hot_encode_dict.keys()))\n",
    "\n",
    "features = x_transformed.columns"
   ]
  },
  {
   "cell_type": "code",
   "execution_count": 49,
   "metadata": {
    "hidden": true
   },
   "outputs": [],
   "source": [
    "#------------------------------------------------------------------------------------------\n",
    "# train_test split of data\n",
    "#------------------------------------------------------------------------------------------\n",
    "\n",
    "test_proportion = 0.2\n",
    "\n",
    "x_train, x_test, y_train, y_test = train_test_split(x_transformed, y, test_size=test_proportion, random_state=random_seed)"
   ]
  },
  {
   "cell_type": "code",
   "execution_count": 50,
   "metadata": {
    "hidden": true
   },
   "outputs": [],
   "source": [
    "#------------------------------------------------------------------------------------------\n",
    "# fraud has a low rate of occurrence (<2%) based on the profiling report\n",
    "# oversample (with replacement) minority class to produce a 50% event rate for modeling\n",
    "#------------------------------------------------------------------------------------------\n",
    "\n",
    "x_train[target] = y_train\n",
    "\n",
    "desired_event_rate = 0.5\n",
    "\n",
    "train_events = x_train[x_train[target] == 1]\n",
    "train_non_events = x_train[x_train[target] == 0]\n",
    "\n",
    "num_train_events = int(len(train_non_events)/((1-desired_event_rate)/desired_event_rate))\n",
    "\n",
    "train_events_upsampled = resample(train_events, replace = True, n_samples = num_train_events, random_state = random_seed)\n",
    "\n",
    "train_upsampled = train_events_upsampled.append(train_non_events, ignore_index = True)\n",
    "\n",
    "x_train_upsampled = train_upsampled[features]\n",
    "\n",
    "y_train_upsampled = train_upsampled[target]"
   ]
  },
  {
   "cell_type": "markdown",
   "metadata": {},
   "source": [
    "### Model Build"
   ]
  },
  {
   "cell_type": "code",
   "execution_count": 51,
   "metadata": {},
   "outputs": [
    {
     "data": {
      "text/plain": [
       "GridSearchCV(cv=3, error_score='raise-deprecating',\n",
       "             estimator=RandomForestClassifier(bootstrap=True, class_weight=None,\n",
       "                                              criterion='gini', max_depth=None,\n",
       "                                              max_features='auto',\n",
       "                                              max_leaf_nodes=None,\n",
       "                                              min_impurity_decrease=0.0,\n",
       "                                              min_impurity_split=None,\n",
       "                                              min_samples_leaf=5,\n",
       "                                              min_samples_split=10,\n",
       "                                              min_weight_fraction_leaf=0.0,\n",
       "                                              n_estimators='warn', n_jobs=None,\n",
       "                                              oob_score=False,\n",
       "                                              random_state=None, verbose=0,\n",
       "                                              warm_start=False),\n",
       "             iid='warn', n_jobs=None, param_grid={'n_estimators': [10, 20, 40]},\n",
       "             pre_dispatch='2*n_jobs', refit=True, return_train_score=False,\n",
       "             scoring='accuracy', verbose=0)"
      ]
     },
     "execution_count": 51,
     "metadata": {},
     "output_type": "execute_result"
    }
   ],
   "source": [
    "#------------------------------------------------------------------------------------------\n",
    "# grid search on random forest\n",
    "#------------------------------------------------------------------------------------------\n",
    "\n",
    "rf = RandomForestClassifier(min_samples_split = 10, min_samples_leaf = 5)\n",
    "\n",
    "param_grid = {'n_estimators': [10,20,40]}\n",
    "\n",
    "grid_search = GridSearchCV(rf, param_grid=param_grid, cv=3, scoring='accuracy')\n",
    "\n",
    "grid_search.fit(x_train_upsampled, y_train_upsampled)"
   ]
  },
  {
   "cell_type": "code",
   "execution_count": 52,
   "metadata": {},
   "outputs": [
    {
     "data": {
      "text/plain": [
       "{'mean_fit_time': array([ 65.80084117, 125.53330278, 248.36854188]),\n",
       " 'std_fit_time': array([1.60938879, 1.92058429, 3.07842867]),\n",
       " 'mean_score_time': array([ 4.01096567,  6.52853751, 11.4204541 ]),\n",
       " 'std_score_time': array([0.07272829, 0.02099702, 0.04230467]),\n",
       " 'param_n_estimators': masked_array(data=[10, 20, 40],\n",
       "              mask=[False, False, False],\n",
       "        fill_value='?',\n",
       "             dtype=object),\n",
       " 'params': [{'n_estimators': 10}, {'n_estimators': 20}, {'n_estimators': 40}],\n",
       " 'split0_test_score': array([0.96044299, 0.96880928, 0.9719667 ]),\n",
       " 'split1_test_score': array([0.96198603, 0.96814033, 0.97379218]),\n",
       " 'split2_test_score': array([0.96137631, 0.96714712, 0.97178815]),\n",
       " 'mean_test_score': array([0.96126844, 0.96803224, 0.97251568]),\n",
       " 'std_test_score': array([0.00063454, 0.00068286, 0.00090556]),\n",
       " 'rank_test_score': array([3, 2, 1])}"
      ]
     },
     "execution_count": 52,
     "metadata": {},
     "output_type": "execute_result"
    }
   ],
   "source": [
    "#------------------------------------------------------------------------------------------\n",
    "# grid search results\n",
    "#------------------------------------------------------------------------------------------\n",
    "\n",
    "grid_search.cv_results_"
   ]
  },
  {
   "cell_type": "code",
   "execution_count": 53,
   "metadata": {},
   "outputs": [
    {
     "data": {
      "text/plain": [
       "{'n_estimators': 40}"
      ]
     },
     "execution_count": 53,
     "metadata": {},
     "output_type": "execute_result"
    }
   ],
   "source": [
    "#------------------------------------------------------------------------------------------\n",
    "# parameters for best performing model\n",
    "#------------------------------------------------------------------------------------------\n",
    "\n",
    "grid_search.best_params_"
   ]
  },
  {
   "cell_type": "code",
   "execution_count": 54,
   "metadata": {},
   "outputs": [
    {
     "data": {
      "text/plain": [
       "0.9725156781441517"
      ]
     },
     "execution_count": 54,
     "metadata": {},
     "output_type": "execute_result"
    }
   ],
   "source": [
    "#------------------------------------------------------------------------------------------\n",
    "# accuracy score for best performing model\n",
    "#------------------------------------------------------------------------------------------\n",
    "\n",
    "grid_search.best_score_"
   ]
  },
  {
   "cell_type": "code",
   "execution_count": 55,
   "metadata": {},
   "outputs": [],
   "source": [
    "#------------------------------------------------------------------------------------------\n",
    "# assigning best performing model to selected_rf variable\n",
    "#------------------------------------------------------------------------------------------\n",
    "\n",
    "selected_rf = grid_search.best_estimator_"
   ]
  },
  {
   "cell_type": "code",
   "execution_count": 56,
   "metadata": {
    "scrolled": true
   },
   "outputs": [
    {
     "data": {
      "text/html": [
       "<div>\n",
       "<style scoped>\n",
       "    .dataframe tbody tr th:only-of-type {\n",
       "        vertical-align: middle;\n",
       "    }\n",
       "\n",
       "    .dataframe tbody tr th {\n",
       "        vertical-align: top;\n",
       "    }\n",
       "\n",
       "    .dataframe thead th {\n",
       "        text-align: right;\n",
       "    }\n",
       "</style>\n",
       "<table border=\"1\" class=\"dataframe\">\n",
       "  <thead>\n",
       "    <tr style=\"text-align: right;\">\n",
       "      <th></th>\n",
       "      <th>importance</th>\n",
       "    </tr>\n",
       "  </thead>\n",
       "  <tbody>\n",
       "    <tr>\n",
       "      <th>transactionAmount</th>\n",
       "      <td>1.716823e-01</td>\n",
       "    </tr>\n",
       "    <tr>\n",
       "      <th>currentBalance</th>\n",
       "      <td>7.016282e-02</td>\n",
       "    </tr>\n",
       "    <tr>\n",
       "      <th>months_account_open</th>\n",
       "      <td>6.842555e-02</td>\n",
       "    </tr>\n",
       "    <tr>\n",
       "      <th>posEntry_05</th>\n",
       "      <td>5.999536e-02</td>\n",
       "    </tr>\n",
       "    <tr>\n",
       "      <th>months_address_change</th>\n",
       "      <td>5.713245e-02</td>\n",
       "    </tr>\n",
       "    <tr>\n",
       "      <th>creditLimit</th>\n",
       "      <td>4.524432e-02</td>\n",
       "    </tr>\n",
       "    <tr>\n",
       "      <th>posEntry_09</th>\n",
       "      <td>2.289916e-02</td>\n",
       "    </tr>\n",
       "    <tr>\n",
       "      <th>merchCat_fuel</th>\n",
       "      <td>1.244141e-02</td>\n",
       "    </tr>\n",
       "    <tr>\n",
       "      <th>merchName_Hyatt House</th>\n",
       "      <td>1.100190e-02</td>\n",
       "    </tr>\n",
       "    <tr>\n",
       "      <th>posEntry_02</th>\n",
       "      <td>9.169097e-03</td>\n",
       "    </tr>\n",
       "    <tr>\n",
       "      <th>cardPresent</th>\n",
       "      <td>7.971459e-03</td>\n",
       "    </tr>\n",
       "    <tr>\n",
       "      <th>trans_month_6</th>\n",
       "      <td>6.948641e-03</td>\n",
       "    </tr>\n",
       "    <tr>\n",
       "      <th>trans_month_5</th>\n",
       "      <td>6.915170e-03</td>\n",
       "    </tr>\n",
       "    <tr>\n",
       "      <th>merchCat_online_retail</th>\n",
       "      <td>6.910992e-03</td>\n",
       "    </tr>\n",
       "    <tr>\n",
       "      <th>trans_month_11</th>\n",
       "      <td>6.899268e-03</td>\n",
       "    </tr>\n",
       "    <tr>\n",
       "      <th>trans_month_1</th>\n",
       "      <td>6.847084e-03</td>\n",
       "    </tr>\n",
       "    <tr>\n",
       "      <th>trans_month_10</th>\n",
       "      <td>6.830850e-03</td>\n",
       "    </tr>\n",
       "    <tr>\n",
       "      <th>trans_month_8</th>\n",
       "      <td>6.746312e-03</td>\n",
       "    </tr>\n",
       "    <tr>\n",
       "      <th>trans_month_3</th>\n",
       "      <td>6.734561e-03</td>\n",
       "    </tr>\n",
       "    <tr>\n",
       "      <th>trans_month_9</th>\n",
       "      <td>6.691148e-03</td>\n",
       "    </tr>\n",
       "    <tr>\n",
       "      <th>trans_month_4</th>\n",
       "      <td>6.652467e-03</td>\n",
       "    </tr>\n",
       "    <tr>\n",
       "      <th>trans_month_12</th>\n",
       "      <td>6.531248e-03</td>\n",
       "    </tr>\n",
       "    <tr>\n",
       "      <th>trans_month_7</th>\n",
       "      <td>6.482451e-03</td>\n",
       "    </tr>\n",
       "    <tr>\n",
       "      <th>merchCat_online_subscriptions</th>\n",
       "      <td>6.373848e-03</td>\n",
       "    </tr>\n",
       "    <tr>\n",
       "      <th>trans_month_2</th>\n",
       "      <td>6.288632e-03</td>\n",
       "    </tr>\n",
       "    <tr>\n",
       "      <th>posCondition_08</th>\n",
       "      <td>6.114218e-03</td>\n",
       "    </tr>\n",
       "    <tr>\n",
       "      <th>posEntry_</th>\n",
       "      <td>5.732462e-03</td>\n",
       "    </tr>\n",
       "    <tr>\n",
       "      <th>posCondition_01</th>\n",
       "      <td>5.481693e-03</td>\n",
       "    </tr>\n",
       "    <tr>\n",
       "      <th>merchCat_mobileapps</th>\n",
       "      <td>5.304419e-03</td>\n",
       "    </tr>\n",
       "    <tr>\n",
       "      <th>type_ADDRESS_VERIFICATION</th>\n",
       "      <td>5.274663e-03</td>\n",
       "    </tr>\n",
       "    <tr>\n",
       "      <th>...</th>\n",
       "      <td>...</td>\n",
       "    </tr>\n",
       "    <tr>\n",
       "      <th>merchName_Northtown Beauty</th>\n",
       "      <td>9.116043e-05</td>\n",
       "    </tr>\n",
       "    <tr>\n",
       "      <th>merchName_ethanallen.com</th>\n",
       "      <td>8.586131e-05</td>\n",
       "    </tr>\n",
       "    <tr>\n",
       "      <th>merchName_Bobs Furniture</th>\n",
       "      <td>8.429604e-05</td>\n",
       "    </tr>\n",
       "    <tr>\n",
       "      <th>merchName_Pottery Barn</th>\n",
       "      <td>7.314375e-05</td>\n",
       "    </tr>\n",
       "    <tr>\n",
       "      <th>merchName_Williams Sonoma</th>\n",
       "      <td>6.908264e-05</td>\n",
       "    </tr>\n",
       "    <tr>\n",
       "      <th>merchName_West Elm</th>\n",
       "      <td>6.367642e-05</td>\n",
       "    </tr>\n",
       "    <tr>\n",
       "      <th>merchName_Marriott Hotels</th>\n",
       "      <td>6.136052e-05</td>\n",
       "    </tr>\n",
       "    <tr>\n",
       "      <th>merchName_Shell Repair</th>\n",
       "      <td>6.084555e-05</td>\n",
       "    </tr>\n",
       "    <tr>\n",
       "      <th>merchName_Ricks Repair</th>\n",
       "      <td>5.911238e-05</td>\n",
       "    </tr>\n",
       "    <tr>\n",
       "      <th>merchName_Convenient Tire</th>\n",
       "      <td>5.897623e-05</td>\n",
       "    </tr>\n",
       "    <tr>\n",
       "      <th>merchName_Convenient Repair</th>\n",
       "      <td>4.995914e-05</td>\n",
       "    </tr>\n",
       "    <tr>\n",
       "      <th>merchName_Aloft</th>\n",
       "      <td>4.245957e-05</td>\n",
       "    </tr>\n",
       "    <tr>\n",
       "      <th>merchName_Sprint PCS</th>\n",
       "      <td>4.198774e-05</td>\n",
       "    </tr>\n",
       "    <tr>\n",
       "      <th>merchName_Rove Concepts</th>\n",
       "      <td>3.813870e-05</td>\n",
       "    </tr>\n",
       "    <tr>\n",
       "      <th>merchName_Boost Mobile</th>\n",
       "      <td>3.708094e-05</td>\n",
       "    </tr>\n",
       "    <tr>\n",
       "      <th>merchName_53rd Beauty</th>\n",
       "      <td>3.345745e-05</td>\n",
       "    </tr>\n",
       "    <tr>\n",
       "      <th>merchName_Fast Tire</th>\n",
       "      <td>2.680138e-05</td>\n",
       "    </tr>\n",
       "    <tr>\n",
       "      <th>merchName_EZ Wireless</th>\n",
       "      <td>2.207671e-05</td>\n",
       "    </tr>\n",
       "    <tr>\n",
       "      <th>merchName_Virgin</th>\n",
       "      <td>1.955067e-05</td>\n",
       "    </tr>\n",
       "    <tr>\n",
       "      <th>merchName_86th Massage</th>\n",
       "      <td>1.355951e-05</td>\n",
       "    </tr>\n",
       "    <tr>\n",
       "      <th>merchName_53rd Massage</th>\n",
       "      <td>1.225865e-05</td>\n",
       "    </tr>\n",
       "    <tr>\n",
       "      <th>merchName_Northtown Massage</th>\n",
       "      <td>1.046265e-05</td>\n",
       "    </tr>\n",
       "    <tr>\n",
       "      <th>merchName_Barbells</th>\n",
       "      <td>8.104142e-06</td>\n",
       "    </tr>\n",
       "    <tr>\n",
       "      <th>merchName_Sprint Communications</th>\n",
       "      <td>4.058531e-06</td>\n",
       "    </tr>\n",
       "    <tr>\n",
       "      <th>merchName_Fast Mobile</th>\n",
       "      <td>3.793440e-06</td>\n",
       "    </tr>\n",
       "    <tr>\n",
       "      <th>merchName_ATT</th>\n",
       "      <td>3.240509e-06</td>\n",
       "    </tr>\n",
       "    <tr>\n",
       "      <th>merchName_TMobile Wireless</th>\n",
       "      <td>1.399556e-07</td>\n",
       "    </tr>\n",
       "    <tr>\n",
       "      <th>merchName_My Fitness</th>\n",
       "      <td>0.000000e+00</td>\n",
       "    </tr>\n",
       "    <tr>\n",
       "      <th>merchName_Duane Reed</th>\n",
       "      <td>0.000000e+00</td>\n",
       "    </tr>\n",
       "    <tr>\n",
       "      <th>merchName_Verizon Wireless</th>\n",
       "      <td>0.000000e+00</td>\n",
       "    </tr>\n",
       "  </tbody>\n",
       "</table>\n",
       "<p>292 rows × 1 columns</p>\n",
       "</div>"
      ],
      "text/plain": [
       "                                   importance\n",
       "transactionAmount                1.716823e-01\n",
       "currentBalance                   7.016282e-02\n",
       "months_account_open              6.842555e-02\n",
       "posEntry_05                      5.999536e-02\n",
       "months_address_change            5.713245e-02\n",
       "creditLimit                      4.524432e-02\n",
       "posEntry_09                      2.289916e-02\n",
       "merchCat_fuel                    1.244141e-02\n",
       "merchName_Hyatt House            1.100190e-02\n",
       "posEntry_02                      9.169097e-03\n",
       "cardPresent                      7.971459e-03\n",
       "trans_month_6                    6.948641e-03\n",
       "trans_month_5                    6.915170e-03\n",
       "merchCat_online_retail           6.910992e-03\n",
       "trans_month_11                   6.899268e-03\n",
       "trans_month_1                    6.847084e-03\n",
       "trans_month_10                   6.830850e-03\n",
       "trans_month_8                    6.746312e-03\n",
       "trans_month_3                    6.734561e-03\n",
       "trans_month_9                    6.691148e-03\n",
       "trans_month_4                    6.652467e-03\n",
       "trans_month_12                   6.531248e-03\n",
       "trans_month_7                    6.482451e-03\n",
       "merchCat_online_subscriptions    6.373848e-03\n",
       "trans_month_2                    6.288632e-03\n",
       "posCondition_08                  6.114218e-03\n",
       "posEntry_                        5.732462e-03\n",
       "posCondition_01                  5.481693e-03\n",
       "merchCat_mobileapps              5.304419e-03\n",
       "type_ADDRESS_VERIFICATION        5.274663e-03\n",
       "...                                       ...\n",
       "merchName_Northtown Beauty       9.116043e-05\n",
       "merchName_ethanallen.com         8.586131e-05\n",
       "merchName_Bobs Furniture         8.429604e-05\n",
       "merchName_Pottery Barn           7.314375e-05\n",
       "merchName_Williams Sonoma        6.908264e-05\n",
       "merchName_West Elm               6.367642e-05\n",
       "merchName_Marriott Hotels        6.136052e-05\n",
       "merchName_Shell Repair           6.084555e-05\n",
       "merchName_Ricks Repair           5.911238e-05\n",
       "merchName_Convenient Tire        5.897623e-05\n",
       "merchName_Convenient Repair      4.995914e-05\n",
       "merchName_Aloft                  4.245957e-05\n",
       "merchName_Sprint PCS             4.198774e-05\n",
       "merchName_Rove Concepts          3.813870e-05\n",
       "merchName_Boost Mobile           3.708094e-05\n",
       "merchName_53rd Beauty            3.345745e-05\n",
       "merchName_Fast Tire              2.680138e-05\n",
       "merchName_EZ Wireless            2.207671e-05\n",
       "merchName_Virgin                 1.955067e-05\n",
       "merchName_86th Massage           1.355951e-05\n",
       "merchName_53rd Massage           1.225865e-05\n",
       "merchName_Northtown Massage      1.046265e-05\n",
       "merchName_Barbells               8.104142e-06\n",
       "merchName_Sprint Communications  4.058531e-06\n",
       "merchName_Fast Mobile            3.793440e-06\n",
       "merchName_ATT                    3.240509e-06\n",
       "merchName_TMobile Wireless       1.399556e-07\n",
       "merchName_My Fitness             0.000000e+00\n",
       "merchName_Duane Reed             0.000000e+00\n",
       "merchName_Verizon Wireless       0.000000e+00\n",
       "\n",
       "[292 rows x 1 columns]"
      ]
     },
     "execution_count": 56,
     "metadata": {},
     "output_type": "execute_result"
    }
   ],
   "source": [
    "#------------------------------------------------------------------------------------------\n",
    "# dataframe containing feature importances\n",
    "#------------------------------------------------------------------------------------------\n",
    "\n",
    "feature_importances = (pd.DataFrame(selected_rf.feature_importances_\n",
    "                                   , index = features\n",
    "                                   , columns = ['importance']\n",
    "                                  )\n",
    "                       .sort_values('importance', ascending=False)\n",
    "                      )\n",
    "\n",
    "feature_importances"
   ]
  },
  {
   "cell_type": "code",
   "execution_count": 57,
   "metadata": {},
   "outputs": [],
   "source": [
    "#------------------------------------------------------------------------------------------\n",
    "# predicted probabilites on the test set (not upsampled)\n",
    "#------------------------------------------------------------------------------------------\n",
    "\n",
    "pred_prob = [i[1] for i in selected_rf.predict_proba(x_test)]"
   ]
  },
  {
   "cell_type": "code",
   "execution_count": 58,
   "metadata": {},
   "outputs": [
    {
     "data": {
      "text/html": [
       "<div>\n",
       "<style scoped>\n",
       "    .dataframe tbody tr th:only-of-type {\n",
       "        vertical-align: middle;\n",
       "    }\n",
       "\n",
       "    .dataframe tbody tr th {\n",
       "        vertical-align: top;\n",
       "    }\n",
       "\n",
       "    .dataframe thead th {\n",
       "        text-align: right;\n",
       "    }\n",
       "</style>\n",
       "<table border=\"1\" class=\"dataframe\">\n",
       "  <thead>\n",
       "    <tr style=\"text-align: right;\">\n",
       "      <th>predicted</th>\n",
       "      <th>0</th>\n",
       "      <th>1</th>\n",
       "      <th>All</th>\n",
       "    </tr>\n",
       "    <tr>\n",
       "      <th>actual</th>\n",
       "      <th></th>\n",
       "      <th></th>\n",
       "      <th></th>\n",
       "    </tr>\n",
       "  </thead>\n",
       "  <tbody>\n",
       "    <tr>\n",
       "      <th>0</th>\n",
       "      <td>0.947703</td>\n",
       "      <td>0.034420</td>\n",
       "      <td>0.982124</td>\n",
       "    </tr>\n",
       "    <tr>\n",
       "      <th>1</th>\n",
       "      <td>0.013522</td>\n",
       "      <td>0.004354</td>\n",
       "      <td>0.017876</td>\n",
       "    </tr>\n",
       "    <tr>\n",
       "      <th>All</th>\n",
       "      <td>0.961225</td>\n",
       "      <td>0.038775</td>\n",
       "      <td>1.000000</td>\n",
       "    </tr>\n",
       "  </tbody>\n",
       "</table>\n",
       "</div>"
      ],
      "text/plain": [
       "predicted         0         1       All\n",
       "actual                                 \n",
       "0          0.947703  0.034420  0.982124\n",
       "1          0.013522  0.004354  0.017876\n",
       "All        0.961225  0.038775  1.000000"
      ]
     },
     "execution_count": 58,
     "metadata": {},
     "output_type": "execute_result"
    }
   ],
   "source": [
    "#------------------------------------------------------------------------------------------\n",
    "# confusion matrix of results\n",
    "# defaulted threshold to 0.5; with more time I would explore the threshold value with an\n",
    "#  emphasis on the cost of each decision about a transaction\n",
    "#------------------------------------------------------------------------------------------\n",
    "\n",
    "threshold = 0.5\n",
    "\n",
    "pd.crosstab(y_test\n",
    "            ,np.where(np.array(pred_prob) > threshold, 1, 0)\n",
    "            ,rownames=['actual']\n",
    "            ,colnames=['predicted']\n",
    "            ,margins=True\n",
    "           ) / len(y_test)"
   ]
  },
  {
   "cell_type": "markdown",
   "metadata": {},
   "source": [
    "The model correctly classified about 25% of the fraudulent transactions on the validation dataset. A 75% false negative rate seems very high, which leaves room for improvement through data preparation, sampling, tuning, and the probability threshold for classifying a transaction. More details can be found in the summary section."
   ]
  },
  {
   "cell_type": "markdown",
   "metadata": {},
   "source": [
    "### Summary"
   ]
  },
  {
   "cell_type": "markdown",
   "metadata": {},
   "source": [
    "**Modeling algorithm/method used and why:**\n",
    "\n",
    "- I chose a random forest because it is generally capable of building a decently predictive model without investing a lot of time to identify non-linear relationships, interaction terms, etc. It is also robust to overfitting by randomly selecting features for each tree.\n",
    "- Random forest is an algorithm I am very familiar with and, therefore, is an algorithm I'll often use as a first pass to build a benchmark for performance. From that initial pass, I'll work on developing a better understanding of the relationships modeled via partial dependendence plots, tune parameters, assess other algorithms where necessary, etc."
   ]
  },
  {
   "cell_type": "markdown",
   "metadata": {},
   "source": [
    "**What features/data you found useful:**\n",
    "- The following are the top 10 variables based on the feature importances:\n",
    " 1. transactionAmount\n",
    " 2. currentBalance\n",
    " 3. months_account_open\n",
    " 4. posEntry_05\n",
    " 5. months_address_change\n",
    " 6. creditLimit\n",
    " 7. posEntry_09\n",
    " 8. merchCat_fuel\n",
    " 9. merchName_Hyatt House\n",
    " 10. posEntry_02 \n",
    "\n",
    "There are a variety of features that appear to have predictive power.\n",
    "\n",
    "- Transaction amount: based on bivariate plot & feature importance list, there is a clear trend with the likelihood of fraud. Higher transaction amount = higher likelihood of fraud. It is intuitive that fraud attempts would occur on bigger ticket items. It could also make sense that fraud is less likely to be identified or could be overlooked if it's on a lower priced item.\n",
    "- A few of the transformations led to some value: months_account_open and months_address_change. The newer an account is, the higher the likelihood of fraud. Potential hypothesis is that new accounts/cards could be more easily stolen while in the mail.\n",
    "- posEntry appears to be a very important variable. Based on some quick research it appears as though it's related to how the card is used (swiped, inserted with a chip, etc.). I couldn't find precise definitions for the codes, but it is intuitive that less secure methods could lead to more fraud.\n",
    "- Hyatt House had a significant amount of fraud. It would be interesting to dig deeper into the specific store #'s and identify the root cause of this."
   ]
  },
  {
   "cell_type": "markdown",
   "metadata": {},
   "source": [
    "**What questions you have:**\n",
    "- What process would occur after a charge is predicted to be fraudulent?\n",
    "- I hypothesize that the cost of a false negative is higher than the cost of a false positive. From a business perspective, what extent is this the case? What are the implications of not automatically identifying fraudulent charges? What are the costs associated with processing a fraudulent charge?\n",
    "- What do values in 'posConditionCode' stand for?\n",
    "- What do values in 'posEntryMode' stand for? Based on quick research it seems like it's related to how the card was used (swipe, insert, etc.). But it'd be useful to have a mapping of code to the precise definition.\n",
    "- For the variables that were completely null/blank, why were they blank? Is there potential predictive power in these variables?\n",
    "- What other variables are available to model fraud? (1st or 3rd party)\n",
    "- How would the model be implemented? ie would all of the variables be available for scoring at the instance the transaction needs to be classified? Additional decisions made during model development could be impacted by implementation constraints.\n",
    "- It seems like there are a few businesses where fraud is more prevalent. What steps could be taken to proactively reduce fraud?"
   ]
  },
  {
   "cell_type": "markdown",
   "metadata": {},
   "source": [
    "**What you would do next with more time:**\n",
    "\n",
    "Data Preparation\n",
    "- Additional variable transformations:\n",
    " - Transaction amount relative to the average per account/customer, relative to the average per category per account/customer\n",
    " - Likelihood of customer making a purchase at that time of day\n",
    " - Potentially create indicator variables to isolate predictive power of variables (ex. first month of account_months_open)\n",
    " - Further refinement of transformations made (ex. days since account open)\n",
    " - MerchantName: revisit transaction code or store id to identify if there are certain stores where fraud is more likely to occur than just companies. There appeared to be companies with high fraud rates, so for speed and to reduce dimensionality I removed the # <id>\n",
    "- Revisit variables that I may have prematurely threw out just based on bivariate plots (ex. availableMoney); there may be value once controlling for other factors\n",
    "- Assess strategy for handling of nulls; they appear to all be empty strings and are currently treated as a separate category for categorical variables. This may unnecessarily increase dimensionality. \n",
    "\n",
    "Model Performance:\n",
    "- Assess sampling strategy; for oversampling positive events, I would explore leveraging synthetic generation instead of sampling with replacement\n",
    "- With additional domain knowledge, I would like to evaluate the threshold for declaration of a positive/negative event; cost of false negative vs. false positive. This could also impact how to approach modeling and the penalization of false negatives\n",
    "- Create partial dependence plots for understanding relationships random forest identified\n",
    "- More thorough parameter tuning\n",
    "- Assess additional modeling strategies\n",
    "\n",
    "Other considerations:\n",
    "- Gain a better grasp on domain knowledge, including understanding the cost of a false positive vs false negative\n",
    "- Acquisition of additional observations/data (3rd party data sources?)\n",
    "- Build out a pipeline for easy scoring of new datasets in the future\n",
    "- Conduct additional research on best practices for modeling rare events"
   ]
  }
 ],
 "metadata": {
  "kernelspec": {
   "display_name": "Python 3",
   "language": "python",
   "name": "python3"
  },
  "language_info": {
   "codemirror_mode": {
    "name": "ipython",
    "version": 3
   },
   "file_extension": ".py",
   "mimetype": "text/x-python",
   "name": "python",
   "nbconvert_exporter": "python",
   "pygments_lexer": "ipython3",
   "version": "3.7.3"
  }
 },
 "nbformat": 4,
 "nbformat_minor": 2
}
